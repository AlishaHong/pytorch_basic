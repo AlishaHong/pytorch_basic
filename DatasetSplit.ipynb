{
  "cells": [
    {
      "cell_type": "code",
      "execution_count": null,
      "metadata": {
        "colab": {
          "base_uri": "https://localhost:8080/"
        },
        "id": "ViNAEsgPFvrz",
        "outputId": "2dff36e2-dd0f-4326-f2d2-24ba4d9cc052"
      },
      "outputs": [
        {
          "name": "stdout",
          "output_type": "stream",
          "text": [
            "Mounted at /content/drive\n"
          ]
        }
      ],
      "source": [
        "# 구글 드라이브에서 파일 가져오기\n",
        "from google.colab import drive\n",
        "\n",
        "# Google Drive를 마운트\n",
        "drive.mount('/content/drive')\n",
        "file_path = '/content/drive/MyDrive/pytorch/non_linear.csv'"
      ]
    },
    {
      "cell_type": "code",
      "execution_count": null,
      "metadata": {
        "id": "a6-RuCuyFPHL"
      },
      "outputs": [],
      "source": [
        "import pandas as pd\n",
        "import torch\n",
        "from torch import nn\n",
        "from torch import optim\n",
        "from torch.utils.data import DataLoader, TensorDataset, Dataset, random_split"
      ]
    },
    {
      "cell_type": "code",
      "execution_count": null,
      "metadata": {
        "id": "JDz6FDmfFh12"
      },
      "outputs": [],
      "source": [
        "class CustomDataset(Dataset):\n",
        "    def __init__(self,file_path):\n",
        "        self.data = pd.read_csv(file_path)\n",
        "        # df['x'] -> 시리즈타입\n",
        "        self.x = self.data['x'].values\n",
        "        self.y = self.data['y'].values\n",
        "        self.length = len(self.data)\n",
        "\n",
        "    def __getitem__(self,index):\n",
        "        # custom polynominal_features\n",
        "        x = torch.FloatTensor([self.x[index]**2, self.x[index]])    #입력이 2개가 됨\n",
        "        y = torch.FloatTensor([self.y[index]])\n",
        "        return x,y\n",
        "\n",
        "    def __len__(self):\n",
        "        return self.length"
      ]
    },
    {
      "cell_type": "code",
      "execution_count": null,
      "metadata": {
        "id": "JcNM5izWFpyF"
      },
      "outputs": [],
      "source": [
        "# custom model을 구현\n",
        "\n",
        "class CustomModel(nn.Module):\n",
        "    # nn.Module을 상속받음\n",
        "    def __init__(self):\n",
        "        super().__init__()\n",
        "        self.layer = nn.Linear(2,1)    # x와 x제곱 두개의 컬럼을 입력으로 사용\n",
        "\n",
        "    def forward(self,x):\n",
        "        x = self.layer(x)\n",
        "        return x"
      ]
    },
    {
      "cell_type": "code",
      "execution_count": null,
      "metadata": {
        "id": "PxzZEqpBF5N2"
      },
      "outputs": [],
      "source": [
        "dataset = CustomDataset(file_path)\n",
        "\n",
        "train_ratio = 0.8\n",
        "valid_ratio = 0.1\n",
        "test_ratio = 0.1\n",
        "\n",
        "dataRatio = [train_ratio, valid_ratio, test_ratio]\n",
        "\n",
        "dataset_size = len(dataset)\n",
        "train_size = int(dataset_size * dataRatio[0])\n",
        "validation_size = int(dataset_size * dataRatio[1])\n",
        "test_size = dataset_size - train_size - validation_size\n",
        "\n",
        "dataset_size, train_size, validation_size, test_size\n",
        "# train_dataset, test_dataset = random_split(dataset, [train_size, test_size])\n",
        "\n",
        "dataNum = [train_size, validation_size, test_size]"
      ]
    },
    {
      "cell_type": "code",
      "execution_count": null,
      "metadata": {
        "colab": {
          "base_uri": "https://localhost:8080/"
        },
        "id": "wl-1Z7uTGwm0",
        "outputId": "9390bfc6-79cc-4e62-cae2-dc01777caaff"
      },
      "outputs": [
        {
          "name": "stdout",
          "output_type": "stream",
          "text": [
            "train_dataset : 160\n",
            "validation_dataset : 20\n",
            "test_dataset : 20\n"
          ]
        }
      ],
      "source": [
        "train_dataset, validation_dataset, test_dataset = random_split(dataset, dataNum)\n",
        "print(f'train_dataset : {len(train_dataset)}')\n",
        "print(f'validation_dataset : {len(validation_dataset)}')\n",
        "print(f'test_dataset : {len(test_dataset)}')"
      ]
    },
    {
      "cell_type": "code",
      "execution_count": null,
      "metadata": {
        "id": "fKv7JZ2YHHPv"
      },
      "outputs": [],
      "source": [
        "train_dataloader = DataLoader(train_dataset, batch_size=16, shuffle=True, drop_last = True)\n",
        "validation_dataloader = DataLoader(validation_dataset, batch_size=4, shuffle=True, drop_last = True)\n",
        "test_dataloader = DataLoader(test_dataset, batch_size=4, shuffle=True, drop_last = True)"
      ]
    },
    {
      "cell_type": "code",
      "execution_count": null,
      "metadata": {
        "colab": {
          "base_uri": "https://localhost:8080/"
        },
        "id": "Xa5GpzjsHT7C",
        "outputId": "68f70ffd-1376-4eca-9ef4-6c326072485f"
      },
      "outputs": [
        {
          "name": "stdout",
          "output_type": "stream",
          "text": [
            "tensor([[ 9.0000e+00,  3.0000e+00],\n",
            "        [ 8.1000e-01,  9.0000e-01],\n",
            "        [ 2.5600e+00,  1.6000e+00],\n",
            "        [ 1.5210e+01,  3.9000e+00],\n",
            "        [ 4.0000e-02,  2.0000e-01],\n",
            "        [ 6.8890e+01, -8.3000e+00],\n",
            "        [ 1.9360e+01,  4.4000e+00],\n",
            "        [ 2.5000e+01, -5.0000e+00],\n",
            "        [ 1.0890e+01,  3.3000e+00],\n",
            "        [ 1.0240e+01, -3.2000e+00],\n",
            "        [ 5.1840e+01,  7.2000e+00],\n",
            "        [ 4.7610e+01, -6.9000e+00],\n",
            "        [ 5.4760e+01, -7.4000e+00],\n",
            "        [ 9.4090e+01, -9.7000e+00],\n",
            "        [ 1.2960e+01,  3.6000e+00],\n",
            "        [ 9.4090e+01,  9.7000e+00]])\n",
            "tensor([[ 2.3610e+01],\n",
            "        [ 1.4000e+00],\n",
            "        [ 6.0700e+00],\n",
            "        [ 4.1170e+01],\n",
            "        [-7.0000e-02],\n",
            "        [ 2.2818e+02],\n",
            "        [ 5.3270e+01],\n",
            "        [ 8.6290e+01],\n",
            "        [ 2.8540e+01],\n",
            "        [ 3.7740e+01],\n",
            "        [ 1.4918e+02],\n",
            "        [ 1.6009e+02],\n",
            "        [ 1.8324e+02],\n",
            "        [ 3.0851e+02],\n",
            "        [ 3.4250e+01],\n",
            "        [ 2.7531e+02]])\n",
            "tensor([[ 0.3600, -0.6000],\n",
            "        [23.0400,  4.8000],\n",
            "        [ 0.4900,  0.7000],\n",
            "        [16.0000,  4.0000],\n",
            "        [ 1.4400, -1.2000],\n",
            "        [13.6900, -3.7000],\n",
            "        [ 8.4100, -2.9000],\n",
            "        [75.6900,  8.7000],\n",
            "        [77.4400,  8.8000],\n",
            "        [42.2500, -6.5000],\n",
            "        [86.4900,  9.3000],\n",
            "        [ 6.7600, -2.6000],\n",
            "        [22.0900,  4.7000],\n",
            "        [ 6.2500, -2.5000],\n",
            "        [50.4100,  7.1000],\n",
            "        [88.3600,  9.4000]])\n",
            "tensor([[  2.4800],\n",
            "        [ 63.3300],\n",
            "        [  0.8600],\n",
            "        [ 43.6400],\n",
            "        [  6.6500],\n",
            "        [ 49.6900],\n",
            "        [ 31.8300],\n",
            "        [220.4600],\n",
            "        [225.9500],\n",
            "        [142.6600],\n",
            "        [252.7700],\n",
            "        [ 26.2000],\n",
            "        [ 61.0100],\n",
            "        [ 24.4800],\n",
            "        [144.2400],\n",
            "        [258.9200]])\n"
          ]
        }
      ],
      "source": [
        "count = 0\n",
        "for x,y in train_dataloader:\n",
        "    if count > 1:\n",
        "        break\n",
        "    print(x)\n",
        "    print(y)\n",
        "    count +=1"
      ]
    }
  ],
  "metadata": {
    "colab": {
      "provenance": []
    },
    "kernelspec": {
      "display_name": "Python 3",
      "name": "python3"
    },
    "language_info": {
      "name": "python"
    }
  },
  "nbformat": 4,
  "nbformat_minor": 0
}
