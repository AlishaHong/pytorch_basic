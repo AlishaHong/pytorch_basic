{
  "cells": [
    {
      "cell_type": "markdown",
      "metadata": {
        "id": "ZDDchTTs_UhM"
      },
      "source": [
        "## 다중선형회귀 + 데이터로더"
      ]
    },
    {
      "cell_type": "code",
      "execution_count": null,
      "metadata": {
        "id": "BbWT0Azv_JL_"
      },
      "outputs": [],
      "source": [
        "# 필수 패키지 임포트\n",
        "import torch\n",
        "from torch import nn\n",
        "from torch import optim\n",
        "from torch.utils.data import TensorDataset, DataLoader\n",
        "\n",
        "\n",
        "# 데이터셋 정의\n",
        "train_x = torch.FloatTensor([\n",
        "    [1, 2], [2, 3], [3, 4], [4, 5], [5, 6], [6, 7]\n",
        "])\n",
        "train_y = torch.FloatTensor([\n",
        "    [0.1, 1.5], [1, 2.8], [1.9, 4.1], [2.8, 5.4], [3.7, 6.7], [4.6, 8]\n",
        "])"
      ]
    },
    {
      "cell_type": "code",
      "execution_count": null,
      "metadata": {
        "colab": {
          "base_uri": "https://localhost:8080/"
        },
        "id": "xu5bOOf5_Yu6",
        "outputId": "d57c0885-6e78-4525-df39-94b2abe4e477"
      },
      "outputs": [
        {
          "name": "stdout",
          "output_type": "stream",
          "text": [
            "<torch.utils.data.dataset.TensorDataset object at 0x7daf4cacef20>\n",
            "<torch.utils.data.dataloader.DataLoader object at 0x7daf4cacf250>\n"
          ]
        }
      ],
      "source": [
        "# 데이터로더\n",
        "batch_size = 2\n",
        "# 데이터셋을 읽어와서\n",
        "train_dataset = TensorDataset(train_x,train_y)\n",
        "# 데이터 로더에 데이터셋을 넣어주고 데이터로더 객체를 생성하여 아래에서 활용\n",
        "train_dataloader = DataLoader(train_dataset, batch_size=batch_size, shuffle=True, drop_last=True)\n",
        "\n",
        "print(train_dataset)    # train_dataset 객체\n",
        "print(train_dataloader) # train_dataloader 객체\n",
        "\n",
        "\n",
        "# for batch_idx, samples in enumerate(train_dataloader):\n",
        "#     print(batch_idx)\n",
        "#     print(samples)"
      ]
    },
    {
      "cell_type": "code",
      "execution_count": null,
      "metadata": {
        "id": "CvCp6VRqBLyP"
      },
      "outputs": [],
      "source": [
        "# 0. 하이퍼파라미터 설정\n",
        "lr = 0.001\n",
        "epochs = 10000\n",
        "\n",
        "# 1. 모델 설정\n",
        "model = nn.Linear(2,2, bias = True)\n",
        "# 2. 손실함수 정의\n",
        "criterion = nn.MSELoss()\n",
        "# 3. 옵티마이저 설정\n",
        "optimizer = optim.SGD(model.parameters(), lr = lr)"
      ]
    },
    {
      "cell_type": "code",
      "execution_count": null,
      "metadata": {
        "colab": {
          "base_uri": "https://localhost:8080/"
        },
        "id": "CCu7vZjDBRgV",
        "outputId": "283987d3-e55d-4dd5-fed3-7f671ed23809"
      },
      "outputs": [
        {
          "name": "stdout",
          "output_type": "stream",
          "text": [
            "epoch : 1000, model : [Parameter containing:\n",
            "tensor([[ 1.1150, -0.3283],\n",
            "        [ 0.6391,  0.5329]], requires_grad=True), Parameter containing:\n",
            "tensor([0.0049, 0.2060], requires_grad=True)], cost : 0.051\n",
            "epoch : 2000, model : [Parameter containing:\n",
            "tensor([[ 1.2300, -0.3877],\n",
            "        [ 0.7691,  0.4657]], requires_grad=True), Parameter containing:\n",
            "tensor([-0.1695,  0.0088], requires_grad=True)], cost : 0.013\n",
            "epoch : 3000, model : [Parameter containing:\n",
            "tensor([[ 1.2886, -0.4180],\n",
            "        [ 0.8353,  0.4315]], requires_grad=True), Parameter containing:\n",
            "tensor([-0.2583, -0.0916], requires_grad=True)], cost : 0.003\n",
            "epoch : 4000, model : [Parameter containing:\n",
            "tensor([[ 1.3184, -0.4334],\n",
            "        [ 0.8690,  0.4140]], requires_grad=True), Parameter containing:\n",
            "tensor([-0.3036, -0.1428], requires_grad=True)], cost : 0.001\n",
            "epoch : 5000, model : [Parameter containing:\n",
            "tensor([[ 1.3336, -0.4413],\n",
            "        [ 0.8862,  0.4052]], requires_grad=True), Parameter containing:\n",
            "tensor([-0.3266, -0.1689], requires_grad=True)], cost : 0.000\n",
            "epoch : 6000, model : [Parameter containing:\n",
            "tensor([[ 1.3414, -0.4453],\n",
            "        [ 0.8950,  0.4006]], requires_grad=True), Parameter containing:\n",
            "tensor([-0.3384, -0.1821], requires_grad=True)], cost : 0.000\n",
            "epoch : 7000, model : [Parameter containing:\n",
            "tensor([[ 1.3453, -0.4473],\n",
            "        [ 0.8994,  0.3983]], requires_grad=True), Parameter containing:\n",
            "tensor([-0.3444, -0.1889], requires_grad=True)], cost : 0.000\n",
            "epoch : 8000, model : [Parameter containing:\n",
            "tensor([[ 1.3473, -0.4483],\n",
            "        [ 0.9017,  0.3972]], requires_grad=True), Parameter containing:\n",
            "tensor([-0.3474, -0.1924], requires_grad=True)], cost : 0.000\n",
            "epoch : 9000, model : [Parameter containing:\n",
            "tensor([[ 1.3483, -0.4489],\n",
            "        [ 0.9029,  0.3966]], requires_grad=True), Parameter containing:\n",
            "tensor([-0.3490, -0.1941], requires_grad=True)], cost : 0.000\n",
            "epoch : 10000, model : [Parameter containing:\n",
            "tensor([[ 1.3489, -0.4491],\n",
            "        [ 0.9035,  0.3962]], requires_grad=True), Parameter containing:\n",
            "tensor([-0.3498, -0.1950], requires_grad=True)], cost : 0.000\n"
          ]
        }
      ],
      "source": [
        "# 4, 학습\n",
        "for epoch in range(epochs):\n",
        "    # 1 epoch 진행 시 3번에 나누어져서 cost가 누적\n",
        "    cost = 0.0\n",
        "\n",
        "    # 6개의 데이터를 3번에 나눠서(2개씩) 3 스텝 진행\n",
        "    for batch in train_dataloader:\n",
        "        x, y = batch\n",
        "        # print(x,y)\n",
        "        y_pred = model(x)\n",
        "        loss = criterion(y_pred, y)\n",
        "        optimizer.zero_grad()\n",
        "        loss.backward()\n",
        "        optimizer.step()\n",
        "        # 1epoch 동안에 cost 값을 누적\n",
        "        cost += loss\n",
        "\n",
        "    cost = cost/len(train_dataloader)\n",
        "\n",
        "    if (epoch + 1) % 1000 == 0:\n",
        "        print(f'epoch : {epoch+1:4d}, model : {list(model.parameters())}, cost : {cost:.3f}')"
      ]
    },
    {
      "cell_type": "code",
      "execution_count": null,
      "metadata": {
        "colab": {
          "base_uri": "https://localhost:8080/"
        },
        "id": "KOwZVdTXBS7Y",
        "outputId": "752ab982-d566-4cc8-ef10-a1d9d5c8d42d"
      },
      "outputs": [
        {
          "name": "stdout",
          "output_type": "stream",
          "text": [
            "tensor([[3.6987, 6.6997],\n",
            "        [1.0036, 2.8009]], grad_fn=<SliceBackward0>)\n",
            "tensor([[3.7000, 6.7000],\n",
            "        [1.0000, 2.8000]])\n"
          ]
        }
      ],
      "source": [
        "print(y_pred[:])\n",
        "print(y[:])"
      ]
    }
  ],
  "metadata": {
    "colab": {
      "provenance": []
    },
    "kernelspec": {
      "display_name": "Python 3",
      "name": "python3"
    },
    "language_info": {
      "name": "python"
    }
  },
  "nbformat": 4,
  "nbformat_minor": 0
}
