{
  "cells": [
    {
      "cell_type": "code",
      "execution_count": 18,
      "metadata": {
        "colab": {
          "base_uri": "https://localhost:8080/"
        },
        "id": "sYPTrwElCgIM",
        "outputId": "37cac211-4dd9-42da-e2b0-e24263db9e5f"
      },
      "outputs": [
        {
          "name": "stdout",
          "output_type": "stream",
          "text": [
            "Drive already mounted at /content/drive; to attempt to forcibly remount, call drive.mount(\"/content/drive\", force_remount=True).\n"
          ]
        }
      ],
      "source": [
        "# 구글 드라이브에서 파일 가져오기\n",
        "from google.colab import drive\n",
        "\n",
        "# Google Drive를 마운트\n",
        "drive.mount('/content/drive')\n",
        "file_path = '/content/drive/MyDrive/pythorch/Salary.csv'"
      ]
    },
    {
      "cell_type": "code",
      "execution_count": 19,
      "metadata": {
        "colab": {
          "base_uri": "https://localhost:8080/"
        },
        "id": "F7Mt5DbvC35R",
        "outputId": "48313342-a59b-4d73-e3cc-d1c5e7b84fe8"
      },
      "outputs": [
        {
          "name": "stdout",
          "output_type": "stream",
          "text": [
            "   YearsExperience  Salary\n",
            "0              1.1   39343\n",
            "1              1.3   46205\n",
            "2              1.5   37731\n",
            "3              2.0   43525\n",
            "4              2.2   39891\n"
          ]
        }
      ],
      "source": [
        "# 가져온 파일을 판다스로 읽어오기\n",
        "\n",
        "import pandas as pd\n",
        "import torch\n",
        "from torch import nn\n",
        "from torch import optim\n",
        "\n",
        "# Google Drive에 있는 파일 경로\n",
        "file_path = '/content/Salary.csv'\n",
        "\n",
        "# CSV 파일 읽기\n",
        "df = pd.read_csv(file_path)\n",
        "\n",
        "# 데이터 확인\n",
        "print(df.head())"
      ]
    },
    {
      "cell_type": "code",
      "execution_count": 20,
      "metadata": {
        "colab": {
          "base_uri": "https://localhost:8080/"
        },
        "id": "CBgEa3nKC6Pp",
        "outputId": "9ab4e23b-7a20-473a-f45d-4d54a02b9ca0"
      },
      "outputs": [
        {
          "name": "stdout",
          "output_type": "stream",
          "text": [
            "[[1.10000e+00 3.93430e+04]\n",
            " [1.30000e+00 4.62050e+04]\n",
            " [1.50000e+00 3.77310e+04]\n",
            " [2.00000e+00 4.35250e+04]\n",
            " [2.20000e+00 3.98910e+04]\n",
            " [2.90000e+00 5.66420e+04]\n",
            " [3.00000e+00 6.01500e+04]\n",
            " [3.20000e+00 5.44450e+04]\n",
            " [3.20000e+00 6.44450e+04]\n",
            " [3.70000e+00 5.71890e+04]\n",
            " [3.90000e+00 6.32180e+04]\n",
            " [4.00000e+00 5.57940e+04]\n",
            " [4.00000e+00 5.69570e+04]\n",
            " [4.10000e+00 5.70810e+04]\n",
            " [4.50000e+00 6.11110e+04]\n",
            " [4.90000e+00 6.79380e+04]\n",
            " [5.10000e+00 6.60290e+04]\n",
            " [5.30000e+00 8.30880e+04]\n",
            " [5.90000e+00 8.13630e+04]\n",
            " [6.00000e+00 9.39400e+04]\n",
            " [6.80000e+00 9.17380e+04]\n",
            " [7.10000e+00 9.82730e+04]\n",
            " [7.90000e+00 1.01302e+05]\n",
            " [8.20000e+00 1.13812e+05]\n",
            " [8.70000e+00 1.09431e+05]\n",
            " [9.00000e+00 1.05582e+05]\n",
            " [9.50000e+00 1.16969e+05]\n",
            " [9.60000e+00 1.12635e+05]\n",
            " [1.03000e+01 1.22391e+05]\n",
            " [1.05000e+01 1.21872e+05]\n",
            " [1.12000e+01 1.27345e+05]\n",
            " [1.15000e+01 1.26756e+05]\n",
            " [1.23000e+01 1.28765e+05]\n",
            " [1.29000e+01 1.35675e+05]\n",
            " [1.35000e+01 1.39465e+05]]\n"
          ]
        }
      ],
      "source": [
        "# 판다스로 읽어온 데이터를 numpy 형식으로 변환\n",
        "\n",
        "df_numpy = df.to_numpy()\n",
        "# print(df_numpy)"
      ]
    },
    {
      "cell_type": "code",
      "execution_count": 21,
      "metadata": {
        "colab": {
          "base_uri": "https://localhost:8080/"
        },
        "id": "c04_ydRBC7B6",
        "outputId": "15f3e8af-c97f-43a4-b09d-b78a4e138825"
      },
      "outputs": [
        {
          "name": "stdout",
          "output_type": "stream",
          "text": [
            "tensor([[1.1000e+00, 3.9343e+04],\n",
            "        [1.3000e+00, 4.6205e+04],\n",
            "        [1.5000e+00, 3.7731e+04],\n",
            "        [2.0000e+00, 4.3525e+04],\n",
            "        [2.2000e+00, 3.9891e+04],\n",
            "        [2.9000e+00, 5.6642e+04],\n",
            "        [3.0000e+00, 6.0150e+04],\n",
            "        [3.2000e+00, 5.4445e+04],\n",
            "        [3.2000e+00, 6.4445e+04],\n",
            "        [3.7000e+00, 5.7189e+04],\n",
            "        [3.9000e+00, 6.3218e+04],\n",
            "        [4.0000e+00, 5.5794e+04],\n",
            "        [4.0000e+00, 5.6957e+04],\n",
            "        [4.1000e+00, 5.7081e+04],\n",
            "        [4.5000e+00, 6.1111e+04],\n",
            "        [4.9000e+00, 6.7938e+04],\n",
            "        [5.1000e+00, 6.6029e+04],\n",
            "        [5.3000e+00, 8.3088e+04],\n",
            "        [5.9000e+00, 8.1363e+04],\n",
            "        [6.0000e+00, 9.3940e+04],\n",
            "        [6.8000e+00, 9.1738e+04],\n",
            "        [7.1000e+00, 9.8273e+04],\n",
            "        [7.9000e+00, 1.0130e+05],\n",
            "        [8.2000e+00, 1.1381e+05],\n",
            "        [8.7000e+00, 1.0943e+05],\n",
            "        [9.0000e+00, 1.0558e+05],\n",
            "        [9.5000e+00, 1.1697e+05],\n",
            "        [9.6000e+00, 1.1264e+05],\n",
            "        [1.0300e+01, 1.2239e+05],\n",
            "        [1.0500e+01, 1.2187e+05],\n",
            "        [1.1200e+01, 1.2734e+05],\n",
            "        [1.1500e+01, 1.2676e+05],\n",
            "        [1.2300e+01, 1.2876e+05],\n",
            "        [1.2900e+01, 1.3568e+05],\n",
            "        [1.3500e+01, 1.3946e+05]], dtype=torch.float64)\n"
          ]
        }
      ],
      "source": [
        "# 텐서로 변환\n",
        "\n",
        "df_tensor = torch.tensor(df_numpy)\n",
        "# print(df_tensor)"
      ]
    },
    {
      "cell_type": "code",
      "execution_count": 26,
      "metadata": {
        "colab": {
          "base_uri": "https://localhost:8080/"
        },
        "id": "b4eJkPxIEAiS",
        "outputId": "72ec34c2-1f98-4993-b2de-50f583a87ed7"
      },
      "outputs": [
        {
          "name": "stdout",
          "output_type": "stream",
          "text": [
            "tensor([ 1.1000,  1.3000,  1.5000,  2.0000,  2.2000,  2.9000,  3.0000,  3.2000,\n",
            "         3.2000,  3.7000,  3.9000,  4.0000,  4.0000,  4.1000,  4.5000,  4.9000,\n",
            "         5.1000,  5.3000,  5.9000,  6.0000,  6.8000,  7.1000,  7.9000,  8.2000,\n",
            "         8.7000,  9.0000,  9.5000,  9.6000, 10.3000, 10.5000, 11.2000, 11.5000,\n",
            "        12.3000, 12.9000, 13.5000], dtype=torch.float64)\n",
            "tensor([ 39343.,  46205.,  37731.,  43525.,  39891.,  56642.,  60150.,  54445.,\n",
            "         64445.,  57189.,  63218.,  55794.,  56957.,  57081.,  61111.,  67938.,\n",
            "         66029.,  83088.,  81363.,  93940.,  91738.,  98273., 101302., 113812.,\n",
            "        109431., 105582., 116969., 112635., 122391., 121872., 127345., 126756.,\n",
            "        128765., 135675., 139465.], dtype=torch.float64)\n",
            "tensor([[ 1.1000],\n",
            "        [ 1.3000],\n",
            "        [ 1.5000],\n",
            "        [ 2.0000],\n",
            "        [ 2.2000],\n",
            "        [ 2.9000],\n",
            "        [ 3.0000],\n",
            "        [ 3.2000],\n",
            "        [ 3.2000],\n",
            "        [ 3.7000],\n",
            "        [ 3.9000],\n",
            "        [ 4.0000],\n",
            "        [ 4.0000],\n",
            "        [ 4.1000],\n",
            "        [ 4.5000],\n",
            "        [ 4.9000],\n",
            "        [ 5.1000],\n",
            "        [ 5.3000],\n",
            "        [ 5.9000],\n",
            "        [ 6.0000],\n",
            "        [ 6.8000],\n",
            "        [ 7.1000],\n",
            "        [ 7.9000],\n",
            "        [ 8.2000],\n",
            "        [ 8.7000],\n",
            "        [ 9.0000],\n",
            "        [ 9.5000],\n",
            "        [ 9.6000],\n",
            "        [10.3000],\n",
            "        [10.5000],\n",
            "        [11.2000],\n",
            "        [11.5000],\n",
            "        [12.3000],\n",
            "        [12.9000],\n",
            "        [13.5000]], dtype=torch.float64)\n",
            "tensor([[ 39343.],\n",
            "        [ 46205.],\n",
            "        [ 37731.],\n",
            "        [ 43525.],\n",
            "        [ 39891.],\n",
            "        [ 56642.],\n",
            "        [ 60150.],\n",
            "        [ 54445.],\n",
            "        [ 64445.],\n",
            "        [ 57189.],\n",
            "        [ 63218.],\n",
            "        [ 55794.],\n",
            "        [ 56957.],\n",
            "        [ 57081.],\n",
            "        [ 61111.],\n",
            "        [ 67938.],\n",
            "        [ 66029.],\n",
            "        [ 83088.],\n",
            "        [ 81363.],\n",
            "        [ 93940.],\n",
            "        [ 91738.],\n",
            "        [ 98273.],\n",
            "        [101302.],\n",
            "        [113812.],\n",
            "        [109431.],\n",
            "        [105582.],\n",
            "        [116969.],\n",
            "        [112635.],\n",
            "        [122391.],\n",
            "        [121872.],\n",
            "        [127345.],\n",
            "        [126756.],\n",
            "        [128765.],\n",
            "        [135675.],\n",
            "        [139465.]], dtype=torch.float64)\n"
          ]
        }
      ],
      "source": [
        "# x와 y분리하기\n",
        "\n",
        "x = df_tensor[:,0]\n",
        "y = df_tensor[:,1]\n",
        "# print(x)\n",
        "# print(y)\n",
        "\n",
        "# 2차원 형식으로 reshape\n",
        "x = x.reshape(-1,1)\n",
        "y = y.reshape(-1,1)"
      ]
    },
    {
      "cell_type": "code",
      "execution_count": 32,
      "metadata": {
        "id": "8o17FBoiVNoT"
      },
      "outputs": [],
      "source": [
        "# 데이터 스케일링\n",
        "# x 데이터와 y 데이터의 규모와 범위가 너무 다름\n",
        "\n",
        "from sklearn.preprocessing import MinMaxScaler\n",
        "\n",
        "# MinMaxScaler를 사용하여 0~1 사이로 스케일링\n",
        "scaler_x = MinMaxScaler()\n",
        "scaler_y = MinMaxScaler()\n",
        "\n",
        "x_scaled = scaler_x.fit_transform(x)\n",
        "y_scaled = scaler_y.fit_transform(y)\n",
        "\n",
        "# 스케일링된 데이터를 다시 텐서로 변환\n",
        "x_scaled = torch.FloatTensor(x_scaled)\n",
        "y_scaled = torch.FloatTensor(y_scaled)\n",
        "\n",
        "# print(x_scaled)\n",
        "# print(y_scaled)"
      ]
    },
    {
      "cell_type": "code",
      "execution_count": 33,
      "metadata": {
        "colab": {
          "base_uri": "https://localhost:8080/"
        },
        "id": "IwS5Pyx-C9bU",
        "outputId": "04e19608-4a82-47fa-9fb4-be84e8b77b8c"
      },
      "outputs": [
        {
          "name": "stdout",
          "output_type": "stream",
          "text": [
            "epoch : 1000, w : 0.280, b : 0.316, loss : 0.055\n",
            "epoch : 2000, w : 0.395, b : 0.305, loss : 0.041\n",
            "epoch : 3000, w : 0.483, b : 0.269, loss : 0.032\n",
            "epoch : 4000, w : 0.559, b : 0.235, loss : 0.025\n",
            "epoch : 5000, w : 0.625, b : 0.206, loss : 0.020\n",
            "epoch : 6000, w : 0.682, b : 0.180, loss : 0.016\n",
            "epoch : 7000, w : 0.731, b : 0.158, loss : 0.013\n",
            "epoch : 8000, w : 0.775, b : 0.138, loss : 0.010\n",
            "epoch : 9000, w : 0.812, b : 0.121, loss : 0.009\n",
            "epoch : 10000, w : 0.845, b : 0.106, loss : 0.007\n",
            "epoch : 11000, w : 0.873, b : 0.093, loss : 0.006\n",
            "epoch : 12000, w : 0.898, b : 0.082, loss : 0.006\n",
            "epoch : 13000, w : 0.920, b : 0.072, loss : 0.005\n",
            "epoch : 14000, w : 0.939, b : 0.064, loss : 0.005\n",
            "epoch : 15000, w : 0.955, b : 0.057, loss : 0.004\n",
            "epoch : 16000, w : 0.969, b : 0.050, loss : 0.004\n",
            "epoch : 17000, w : 0.981, b : 0.045, loss : 0.004\n",
            "epoch : 18000, w : 0.992, b : 0.040, loss : 0.004\n",
            "epoch : 19000, w : 1.002, b : 0.036, loss : 0.004\n",
            "epoch : 20000, w : 1.010, b : 0.032, loss : 0.004\n"
          ]
        }
      ],
      "source": [
        "# 모델만들고 학습\n",
        "\n",
        "#초기화\n",
        "w = torch.zeros(1,requires_grad=True)\n",
        "b = torch.zeros(1,requires_grad=True)\n",
        "learning_rate = 0.001\n",
        "EPOCH = 20000\n",
        "\n",
        "\n",
        "#최적화선언\n",
        "optimizer = optim.SGD([w,b],lr=learning_rate)\n",
        "\n",
        "\n",
        "for epoch in range(EPOCH):\n",
        "    y_pred = x_scaled * w + b\n",
        "    loss = torch.mean((y_pred - y_scaled) ** 2)\n",
        "\n",
        "    optimizer.zero_grad()\n",
        "    loss.backward()\n",
        "    optimizer.step()\n",
        "\n",
        "    if (epoch+1) % 1000 == 0:\n",
        "        print(f'epoch : {epoch+1}, w : {w.item():.3f}, b : {b.item():.3f}, loss : {loss:.3f}')"
      ]
    }
  ],
  "metadata": {
    "colab": {
      "provenance": []
    },
    "kernelspec": {
      "display_name": "Python 3",
      "name": "python3"
    },
    "language_info": {
      "name": "python"
    }
  },
  "nbformat": 4,
  "nbformat_minor": 0
}
