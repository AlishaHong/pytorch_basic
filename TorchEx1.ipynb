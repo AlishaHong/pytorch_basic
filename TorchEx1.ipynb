{
  "nbformat": 4,
  "nbformat_minor": 0,
  "metadata": {
    "colab": {
      "provenance": [],
      "gpuType": "T4"
    },
    "kernelspec": {
      "name": "python3",
      "display_name": "Python 3"
    },
    "language_info": {
      "name": "python"
    },
    "accelerator": "GPU"
  },
  "cells": [
    {
      "cell_type": "code",
      "execution_count": 1,
      "metadata": {
        "colab": {
          "base_uri": "https://localhost:8080/"
        },
        "id": "vaL0y6btn0uI",
        "outputId": "8a30802a-d748-4225-fd05-8124ff177e67"
      },
      "outputs": [
        {
          "output_type": "stream",
          "name": "stdout",
          "text": [
            "tensor([1., 2., 3., 4.])\n",
            "tensor([1., 2., 3., 4.])\n",
            "<class 'torch.Tensor'>\n",
            "torch.float32\n",
            "torch.float32\n",
            "cpu\n",
            "1\n",
            "torch.Size([4])\n",
            "torch.Size([4])\n"
          ]
        }
      ],
      "source": [
        "# 텐서의 생성\n",
        "\n",
        "import torch\n",
        "\n",
        "# torch.tensor  vs  torch.Tensor\n",
        "# tensor()는 타입변환 함수여서 값이 꼭 있어야 한다.\n",
        "# Tensor()는 기본형으로 텐서인스턴스를 생성하는 클래스(기본형이 float)\n",
        "\n",
        "torchArray1 = torch.Tensor([1,2,3,4])\n",
        "torchArray2 = torch.tensor([1,2,3,4], dtype = torch.float32)\n",
        "\n",
        "print(torchArray1)\n",
        "print(torchArray2)\n",
        "print(type(torchArray1))\n",
        "\n",
        "print(torchArray1.dtype)\n",
        "print(torchArray2.dtype)\n",
        "print(torchArray1.device)\n",
        "print(torchArray1.ndim)\n",
        "print(torchArray1.shape)\n",
        "print(torchArray1.size())\n"
      ]
    },
    {
      "cell_type": "code",
      "source": [
        "import numpy as np\n",
        "\n",
        "# nparray = np.array([1,2,3,4])\n",
        "nparray = np.array([1,2,3,4], dtype = np.float32)\n",
        "print(nparray)\n",
        "print(type(nparray))"
      ],
      "metadata": {
        "colab": {
          "base_uri": "https://localhost:8080/"
        },
        "id": "OIfQnxyOoGlm",
        "outputId": "3a5846ce-e611-4aa5-cd64-fb57b53be272"
      },
      "execution_count": 2,
      "outputs": [
        {
          "output_type": "stream",
          "name": "stdout",
          "text": [
            "[1. 2. 3. 4.]\n",
            "<class 'numpy.ndarray'>\n"
          ]
        }
      ]
    },
    {
      "cell_type": "code",
      "source": [
        "# 텐서속성\n",
        "\n",
        "import torch\n",
        "\n",
        "# 1행 2열짜리 난수를 생성\n",
        "# tensor = torch.rand((1,2), dtype = torch.int) # 난수생성기에서는 정수타입 사용 불가\n",
        "tensor = torch.rand(1,2)\n",
        "print(tensor)\n",
        "print(tensor.shape)\n",
        "print(tensor.dtype)\n",
        "print(tensor.device)\n",
        "\n",
        "# 2행 1열로 차원 변환\n",
        "tensor = tensor.reshape(2,1)\n",
        "print(tensor)\n",
        "print(tensor.shape)\n"
      ],
      "metadata": {
        "colab": {
          "base_uri": "https://localhost:8080/"
        },
        "id": "uAh-jyHqqcQv",
        "outputId": "2909907a-b301-431a-abd2-e7b6a041097c"
      },
      "execution_count": 3,
      "outputs": [
        {
          "output_type": "stream",
          "name": "stdout",
          "text": [
            "tensor([[0.2312, 0.2945]])\n",
            "torch.Size([1, 2])\n",
            "torch.float32\n",
            "cpu\n",
            "tensor([[0.2312],\n",
            "        [0.2945]])\n",
            "torch.Size([2, 1])\n"
          ]
        }
      ]
    },
    {
      "cell_type": "code",
      "source": [
        "# 텐서 생성 시 자료형 설정\n",
        "\n",
        "import torch\n",
        "\n",
        "tensor = torch.tensor([1,2,3,4], dtype = torch.float32)\n",
        "print(tensor)\n",
        "print(tensor.dtype)"
      ],
      "metadata": {
        "colab": {
          "base_uri": "https://localhost:8080/"
        },
        "id": "fzTC659Br8EF",
        "outputId": "5667b03b-eabd-4ea6-cd37-b0b257229fd5"
      },
      "execution_count": 4,
      "outputs": [
        {
          "output_type": "stream",
          "name": "stdout",
          "text": [
            "tensor([1., 2., 3., 4.])\n",
            "torch.float32\n"
          ]
        }
      ]
    },
    {
      "cell_type": "code",
      "source": [
        "import torch\n",
        "\n",
        "device = torch.device('cuda' if torch.cuda.is_available() else 'cpu')\n",
        "print(device)\n",
        "# print(tensor.device)\n",
        "cpu = torch.tensor([1,2,3], device = 'cpu')\n",
        "gpu = torch.tensor([1,2,3], device = 'cuda')\n",
        "print(cpu)\n",
        "print(gpu)\n",
        "print(device)\n",
        "\n",
        "torch.cuda.is_available()"
      ],
      "metadata": {
        "colab": {
          "base_uri": "https://localhost:8080/"
        },
        "id": "P_GdpENprguz",
        "outputId": "9f47ea4b-3517-409a-85fa-0b19e8b56276"
      },
      "execution_count": 5,
      "outputs": [
        {
          "output_type": "stream",
          "name": "stdout",
          "text": [
            "cuda\n",
            "tensor([1, 2, 3])\n",
            "tensor([1, 2, 3], device='cuda:0')\n",
            "cuda\n"
          ]
        },
        {
          "output_type": "execute_result",
          "data": {
            "text/plain": [
              "True"
            ]
          },
          "metadata": {},
          "execution_count": 5
        }
      ]
    },
    {
      "cell_type": "code",
      "source": [
        "# 장치를 gpu로 전환\n",
        "\n",
        "import torch\n",
        "\n",
        "# 장치변환으로 디바이스를 지정\n",
        "# 하나의 모델을 2개 gpu로 나눠서 돌려야 할때도 사용된다.\n",
        "\n",
        "# cpu -> gpu\n",
        "gpu1 = cpu.cuda()\n",
        "print(gpu1)\n",
        "print(gpu1.device)\n",
        "\n",
        "\n",
        "# gpu -> cpu\n",
        "# cpu1 = gpu.cpu()\n",
        "# print(cpu1)\n",
        "# print(cpu1.device)"
      ],
      "metadata": {
        "colab": {
          "base_uri": "https://localhost:8080/"
        },
        "id": "n4E9q8pTuXAr",
        "outputId": "d34453b2-d612-4ca4-94d9-5ff00e78278c"
      },
      "execution_count": 6,
      "outputs": [
        {
          "output_type": "stream",
          "name": "stdout",
          "text": [
            "tensor([1, 2, 3], device='cuda:0')\n",
            "cuda:0\n"
          ]
        }
      ]
    },
    {
      "cell_type": "code",
      "source": [
        "# 넘파이 배열의 텐서변환\n",
        "# 텐서의 넘파이 배열 변환\n",
        "\n",
        "npArray = np.array([1,2,3,4])\n",
        "print(npArray)\n",
        "print(type(npArray))\n",
        "\n",
        "# numpy -> tensor\n",
        "tensor = torch.from_numpy(npArray)\n",
        "print(tensor)\n",
        "print(type(tensor))\n",
        "print(tensor.device)    #cpu\n",
        "\n",
        "# 넘파이 배열형태의 이미지를 신경망에 돌리려면 텐서로 변환해야하고\n",
        "# 그렇게 학습된 이미지를 다시 출력하려면 넘파이 배열로 변환해야 한다."
      ],
      "metadata": {
        "colab": {
          "base_uri": "https://localhost:8080/"
        },
        "id": "9l7KTUMsudLu",
        "outputId": "29608614-2a56-42e3-c36d-912e3c8aa2a3"
      },
      "execution_count": 7,
      "outputs": [
        {
          "output_type": "stream",
          "name": "stdout",
          "text": [
            "[1 2 3 4]\n",
            "<class 'numpy.ndarray'>\n",
            "tensor([1, 2, 3, 4])\n",
            "<class 'torch.Tensor'>\n",
            "cpu\n"
          ]
        }
      ]
    },
    {
      "cell_type": "code",
      "source": [
        "# tensor -> numpy\n",
        "\n",
        "# cpu에 있는거라서 그냥 변환됨\n",
        "ndarray = tensor.numpy()\n",
        "# ndarray = tensor.detach().numpy()\n",
        "print(ndarray)\n",
        "print(type(ndarray))    #넘파이 됨!\n",
        "\n",
        "# 아래의 tensor는 gpu에 생성됨\n",
        "tensor2 = torch.cuda.FloatTensor([1,2,3,4])\n",
        "print(tensor2.device)   #cuda\n",
        "# 그래서 cpu로 변환해줘야 함\n",
        "# ndarray2 = tensor2.detach().cpu().numpy()\n",
        "ndarray2 = tensor2.cpu().numpy()\n",
        "# detach메서드 : 연산그래프에서 분리된 새로운 텐서를 반환\n",
        "# 해당 텐서가 그레디언트 추적을 하는 텐서일 경우에는 detach를 반드시 해줘야함\n",
        "# 위의 예제는 필수는 아님\n",
        "print(ndarray2)\n",
        "print(type(ndarray2))"
      ],
      "metadata": {
        "colab": {
          "base_uri": "https://localhost:8080/"
        },
        "id": "Gl3L3lUtvuF4",
        "outputId": "52163eaf-7ab8-4652-d32d-8b32c5fae221"
      },
      "execution_count": 8,
      "outputs": [
        {
          "output_type": "stream",
          "name": "stdout",
          "text": [
            "[1 2 3 4]\n",
            "<class 'numpy.ndarray'>\n",
            "cuda:0\n",
            "[1. 2. 3. 4.]\n",
            "<class 'numpy.ndarray'>\n"
          ]
        },
        {
          "output_type": "stream",
          "name": "stderr",
          "text": [
            "<ipython-input-8-585c5a1c61b4>:10: UserWarning: The torch.cuda.*DtypeTensor constructors are no longer recommended. It's best to use methods such as torch.tensor(data, dtype=*, device='cuda') to create tensors. (Triggered internally at ../torch/csrc/tensor/python_tensor.cpp:78.)\n",
            "  tensor2 = torch.cuda.FloatTensor([1,2,3,4])\n"
          ]
        }
      ]
    },
    {
      "cell_type": "code",
      "source": [
        "tensor = torch.randn(3, 3, requires_grad=True)\n",
        "# ndarray = tensor.numpy()  # 에러 발생: 텐서가 그래디언트를 추적 중임\n",
        "# 이럴땐 반드시 detach 해줘야 함\n",
        "\n",
        "\n",
        "# requires_grad = True\n",
        "# 텐서가 그레디언트를 추적할지 여부를 설정하는 속성\n",
        "# (손실함수의 그레디언트를 계산)"
      ],
      "metadata": {
        "id": "knd8u2YU1Xgw"
      },
      "execution_count": 9,
      "outputs": []
    },
    {
      "cell_type": "code",
      "source": [
        "tensor = torch.randn(3, 3, requires_grad=True)\n",
        "ndarray = tensor.detach().numpy()  # detach로 그래디언트 추적 중단 후 NumPy 변환\n",
        "print(ndarray)"
      ],
      "metadata": {
        "colab": {
          "base_uri": "https://localhost:8080/"
        },
        "id": "wg6O_ojT1aqM",
        "outputId": "ba31722e-d740-4081-86e1-d435f1746cd0"
      },
      "execution_count": 10,
      "outputs": [
        {
          "output_type": "stream",
          "name": "stdout",
          "text": [
            "[[ 0.24081708 -0.5017261  -0.24585973]\n",
            " [-0.36021283 -0.4711111  -0.95065325]\n",
            " [ 1.1736467   0.26555     0.2229023 ]]\n"
          ]
        }
      ]
    },
    {
      "cell_type": "code",
      "source": [
        "# 교차엔트로피\n",
        "\n",
        "import torch\n",
        "import torch.nn as nn\n",
        "\n",
        "# 예시: 3개의 클래스 분류\n",
        "output = torch.tensor([[2.0, 1.0, 0.1]])  # 모델의 예측 (logits)\n",
        "target = torch.tensor([0])  # 실제 레이블 (정답 클래스 0)\n",
        "\n",
        "criterion = nn.CrossEntropyLoss()\n",
        "loss = criterion(output, target)\n",
        "\n",
        "print(loss.item())  # 교차 엔트로피 손실 값"
      ],
      "metadata": {
        "colab": {
          "base_uri": "https://localhost:8080/"
        },
        "id": "u7ues-di1wRx",
        "outputId": "8209c010-dbf7-4dbc-8931-d5dc85e37ed2"
      },
      "execution_count": 11,
      "outputs": [
        {
          "output_type": "stream",
          "name": "stdout",
          "text": [
            "0.4170299470424652\n"
          ]
        }
      ]
    },
    {
      "cell_type": "code",
      "source": [],
      "metadata": {
        "id": "wtws4glYDzvH"
      },
      "execution_count": 11,
      "outputs": []
    }
  ]
}